{
 "cells": [
  {
   "cell_type": "code",
   "execution_count": 1,
   "id": "d6a07675",
   "metadata": {},
   "outputs": [
    {
     "name": "stdout",
     "output_type": "stream",
     "text": [
      "The result is 30.5\n"
     ]
    }
   ],
   "source": [
    "#1. Create a variable “x” and assign it the integer value “10”. Create another variable “y” and assign it the float \n",
    "#value “20.5”. Write a Python statement to add these two variables and print the result.\n",
    "\n",
    "x = 10\n",
    "y = 20.5\n",
    "result = x + y\n",
    "print(\"The result is\", result)"
   ]
  },
  {
   "cell_type": "code",
   "execution_count": 2,
   "id": "643fad16",
   "metadata": {},
   "outputs": [
    {
     "name": "stdout",
     "output_type": "stream",
     "text": [
      "12\n"
     ]
    }
   ],
   "source": [
    "#2. Create a variable “name” and assign it your name as a string. Write a Python statement to print the length of this string\n",
    "\n",
    "name = \"Stratosphere\"\n",
    "print(len(name))"
   ]
  },
  {
   "cell_type": "code",
   "execution_count": 3,
   "id": "1fad1dbd",
   "metadata": {},
   "outputs": [
    {
     "name": "stdout",
     "output_type": "stream",
     "text": [
      "45\n"
     ]
    }
   ],
   "source": [
    "#3. Write a Python function called “calculate_area” that takes the length and width of a rectangle as arguments and \n",
    "#returns the area. Test the function with a length of “5” and a width of “3”.\n",
    "\n",
    "def calculated_area(length, width):\n",
    "    area = length * width\n",
    "    return area\n",
    "\n",
    "print(calculated_area(5, 9))\n",
    "    "
   ]
  },
  {
   "cell_type": "code",
   "execution_count": 4,
   "id": "d5cb4702",
   "metadata": {},
   "outputs": [
    {
     "name": "stdout",
     "output_type": "stream",
     "text": [
      "The integer division is 3\n",
      "The modulus division is 3\n"
     ]
    }
   ],
   "source": [
    "#4. Given two variables, “a = 15” and “b = 4”, write Python code to compute and print the result of integer \n",
    "#division and modulus operation.\n",
    "\n",
    "a = 15\n",
    "b = 4\n",
    "interger_div = a//b\n",
    "modulus_div = a%b\n",
    "\n",
    "print(\"The integer division is\", interger_div)\n",
    "print(\"The modulus division is\", modulus_div)"
   ]
  },
  {
   "cell_type": "code",
   "execution_count": 5,
   "id": "11596030",
   "metadata": {},
   "outputs": [
    {
     "name": "stdout",
     "output_type": "stream",
     "text": [
      "Adult\n"
     ]
    }
   ],
   "source": [
    "#5. Write a Python statement to check if a variable “age” is greater than or equal to “18” and\n",
    "#less than “65”. Print \"Adult\" if the condition is true, otherwise print \"Not an Adult\".\n",
    "\n",
    "age = 30\n",
    "if age >= 18 and age < 65:\n",
    "    print(\"Adult\")\n",
    "else:\n",
    "    print(\"Not an adult\")\n"
   ]
  },
  {
   "cell_type": "code",
   "execution_count": 6,
   "id": "df9d4ddd",
   "metadata": {},
   "outputs": [
    {
     "name": "stdout",
     "output_type": "stream",
     "text": [
      "The outcome is  True\n"
     ]
    }
   ],
   "source": [
    "#6. Create two variables, “num1 = 12” and “num2 = 15”. Write a Python statement to check if\n",
    "#“num1” is not equal to “num2” and print the result.\n",
    "\n",
    "num1 = 12\n",
    "num2 = 15\n",
    "\n",
    "result = num1 != num2\n",
    "\n",
    "print(\"The outcome is \", result)\n"
   ]
  },
  {
   "cell_type": "code",
   "execution_count": 7,
   "id": "608aa406",
   "metadata": {},
   "outputs": [
    {
     "name": "stdout",
     "output_type": "stream",
     "text": [
      "True\n",
      "False\n",
      "False\n"
     ]
    }
   ],
   "source": [
    "#7. Write a Python function called “is_even_and_positive” that takes an integer as input and eturns “True” if the number \n",
    "#s both even and positive, otherwise returns “False”.\n",
    "\n",
    "def is_even_and_positive(num):\n",
    "    if num % 2 == 0 and num > 0:\n",
    "        return True\n",
    "    else:\n",
    "        return False\n",
    "    \n",
    "print(is_even_and_positive(70))\n",
    "print(is_even_and_positive(71))\n",
    "print(is_even_and_positive(0))"
   ]
  },
  {
   "cell_type": "code",
   "execution_count": 8,
   "id": "990e08ee",
   "metadata": {},
   "outputs": [
    {
     "name": "stdout",
     "output_type": "stream",
     "text": [
      "False\n",
      "True\n"
     ]
    }
   ],
   "source": [
    "#8. Given two boolean variables, “x = True” and “y = False”, write a Python statement to compute and print the result \n",
    "#of the logical “AND” and “OR” operations.\n",
    "\n",
    "x = True \n",
    "y = False\n",
    "\n",
    "and_result = x and y\n",
    "or_result = x or y\n",
    "\n",
    "print(and_result)\n",
    "print(or_result)"
   ]
  },
  {
   "cell_type": "code",
   "execution_count": 9,
   "id": "df137ac2",
   "metadata": {},
   "outputs": [
    {
     "name": "stdout",
     "output_type": "stream",
     "text": [
      "Hello Joe\n"
     ]
    }
   ],
   "source": [
    "#9. Write a Python function called “greet” that takes a name as an argument and prints a greeting message like \n",
    "#\"Hello, [name]!\". Call this function with your name.\n",
    "\n",
    "def greet(name):\n",
    "    print(\"Hello\", name)\n",
    "    \n",
    "greet(\"Joe\")"
   ]
  },
  {
   "cell_type": "code",
   "execution_count": 10,
   "id": "4a2878a4",
   "metadata": {},
   "outputs": [
    {
     "name": "stdout",
     "output_type": "stream",
     "text": [
      "The maximum number in the list is 9\n"
     ]
    }
   ],
   "source": [
    "#10. Create a Python function “find_max” that takes a list of numbers as input and returns the maximum number in the list. \n",
    "#Test the function with the list “[3, 7, 2, 5, 9]”.\n",
    "\n",
    "def find_max(numbers):\n",
    "    return(max(numbers))\n",
    "\n",
    "test_list = [3, 7, 2, 5, 9]\n",
    "print(\"The maximum number in the list is\", find_max(test_list))\n",
    "\n",
    "#print(\"The maximum number in the list is\", find_max([3, 7, 2, 5, 9]))\n",
    "    "
   ]
  },
  {
   "cell_type": "code",
   "execution_count": 11,
   "id": "9f74c153",
   "metadata": {},
   "outputs": [
    {
     "name": "stdout",
     "output_type": "stream",
     "text": [
      "<class 'list'>\n"
     ]
    }
   ],
   "source": [
    "#11. Write a Python statement to find and print the type of the variable “x” where “x = [1, 2, 3]”.\n",
    "\n",
    "x = [1, 2, 3]\n",
    "print(type(x))"
   ]
  },
  {
   "cell_type": "code",
   "execution_count": 12,
   "id": "b7360274",
   "metadata": {},
   "outputs": [
    {
     "name": "stdout",
     "output_type": "stream",
     "text": [
      "Ascending order: [1, 2, 4, 9]\n",
      "Descending order: [9, 4, 2, 1]\n"
     ]
    }
   ],
   "source": [
    "#12. Create a list of numbers “[4, 2, 9, 1]” and use an inbuilt function to sort this list in ascending order. \n",
    "#Print the sorted list.\n",
    "\n",
    "numbers = [4, 2, 9, 1]\n",
    "\n",
    "def sort_num(list):\n",
    "    list.sort()  \n",
    "    print(\"Ascending order:\", list)\n",
    "    \n",
    "    list.sort(reverse=True)  \n",
    "    print(\"Descending order:\", list)\n",
    "\n",
    "sort_num(numbers)"
   ]
  },
  {
   "cell_type": "code",
   "execution_count": 13,
   "id": "f0314fd0",
   "metadata": {},
   "outputs": [
    {
     "data": {
      "text/plain": [
       "85.0"
      ]
     },
     "execution_count": 13,
     "metadata": {},
     "output_type": "execute_result"
    }
   ],
   "source": [
    "#13. Write a Python function called “calculate_discount” that takes the original price and discount percentage as arguments, \n",
    "#calculates the discounted price, and returns it. Test the function with a price of “100” and a discount of “15”\n",
    "\n",
    "def calculate_discount(price, discount):\n",
    "    discounted_price = price - (price * discount/100)\n",
    "    return discounted_price\n",
    "\n",
    "calculate_discount(100, 15)"
   ]
  },
  {
   "cell_type": "code",
   "execution_count": 14,
   "id": "2b1e9fc5",
   "metadata": {},
   "outputs": [
    {
     "name": "stdout",
     "output_type": "stream",
     "text": [
      "Hello, please enter age: 12\n",
      "You are a minor\n"
     ]
    }
   ],
   "source": [
    "#14. Write a Python script that prompts the user to enter their age and prints whether they are a minor \n",
    "#(age < 18) or an adult (age >= 18). Use comparison and logical operators in your solution.\n",
    "\n",
    "age = int(input(\"Hello, please enter age: \"))\n",
    "if age < 18:\n",
    "    print(\"You are a minor\")\n",
    "else:\n",
    "    print(\"You are an adult\")"
   ]
  },
  {
   "cell_type": "code",
   "execution_count": 17,
   "id": "8100d30d",
   "metadata": {},
   "outputs": [
    {
     "name": "stdout",
     "output_type": "stream",
     "text": [
      "Enter a string value! Hello Python\n",
      "(12, 'HELLO PYTHON', 'hello python')\n"
     ]
    }
   ],
   "source": [
    "#15. Create a function called “string_statistics” that takes a string as input and returns a tuple containing the length of the \n",
    "#string, the string in uppercase, and the string in lowercase. Test the function with the string \"Python Programming\".\n",
    "\n",
    "def string_statistics():\n",
    "    value = input(\"Enter a string value! \")\n",
    "    length = len(value)\n",
    "    upper = value.upper()\n",
    "    lower = value.lower()\n",
    "    return (length, upper, lower)\n",
    "\n",
    "result = string_statistics()\n",
    "print(result)"
   ]
  },
  {
   "cell_type": "code",
   "execution_count": null,
   "id": "d57932f5",
   "metadata": {},
   "outputs": [],
   "source": [
    "name = input(\"Hello, please enter your name: \")\n",
    "age = int(input(\"Please enter your age: \"))\n",
    "\n",
    "if age < 18:\n",
    "    print(f\"Hi {name}, you are a minor.\")\n",
    "else:\n",
    "    print(f\"Hi {name}, you are an adult.\")\n"
   ]
  },
  {
   "cell_type": "code",
   "execution_count": 16,
   "id": "896daca1",
   "metadata": {},
   "outputs": [
    {
     "name": "stdout",
     "output_type": "stream",
     "text": [
      "Enter a string value: Hello Python\n",
      "(12, 'HELLO PYTHON', 'hello python')\n"
     ]
    }
   ],
   "source": [
    "def string_statistics():\n",
    "    value = input(\"Enter a string value: \")  # Prompt the user for input\n",
    "    length = len(value)                      # Calculate the length\n",
    "    uppercase = value.upper()                # Convert to uppercase\n",
    "    lowercase = value.lower()                # Convert to lowercase\n",
    "    return (length, uppercase, lowercase)    # Return as a tuple\n",
    "\n",
    "# Test the function\n",
    "result = string_statistics()\n",
    "print(result)\n"
   ]
  },
  {
   "cell_type": "code",
   "execution_count": null,
   "id": "cb637e9f",
   "metadata": {},
   "outputs": [],
   "source": []
  },
  {
   "cell_type": "code",
   "execution_count": null,
   "id": "f7a7ee26",
   "metadata": {},
   "outputs": [],
   "source": []
  }
 ],
 "metadata": {
  "kernelspec": {
   "display_name": "Python 3 (ipykernel)",
   "language": "python",
   "name": "python3"
  },
  "language_info": {
   "codemirror_mode": {
    "name": "ipython",
    "version": 3
   },
   "file_extension": ".py",
   "mimetype": "text/x-python",
   "name": "python",
   "nbconvert_exporter": "python",
   "pygments_lexer": "ipython3",
   "version": "3.9.12"
  }
 },
 "nbformat": 4,
 "nbformat_minor": 5
}
