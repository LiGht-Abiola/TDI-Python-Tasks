{
 "cells": [
  {
   "cell_type": "markdown",
   "id": "c5c3f1e7",
   "metadata": {},
   "source": [
    "## 1. Data Cleaning"
   ]
  },
  {
   "cell_type": "markdown",
   "id": "bcc25aed",
   "metadata": {},
   "source": [
    "1. Importance of Handling Missing Data\n",
    "Handling missing data is crucial because:\n",
    "\n",
    "Maintains Data Integrity: Missing values can lead to biased or incorrect conclusions.\n",
    "Ensures Model Performance: Many machine learning models cannot handle missing values, leading to errors or poor predictions.\n",
    "Prevents Data Loss: Simply dropping missing values can lead to losing valuable information if done excessively.\n",
    "Improves Accuracy: Properly handling missing data reduces noise and improves the reliability of insights."
   ]
  },
  {
   "cell_type": "code",
   "execution_count": 1,
   "id": "0c5174a5",
   "metadata": {},
   "outputs": [
    {
     "data": {
      "image/png": "[encoded data removed]",
      "text/plain": [
       "<Figure size 720x432 with 1 Axes>"
      ]
     },
     "metadata": {
      "needs_background": "light"
     },
     "output_type": "display_data"
    },
    {
     "name": "stdout",
     "output_type": "stream",
     "text": [
      "Missing Values Count:\n",
      " pclass          0\n",
      "survived        0\n",
      "name            0\n",
      "sex             0\n",
      "age           263\n",
      "sibsp           0\n",
      "parch           0\n",
      "ticket          0\n",
      "fare            1\n",
      "cabin        1014\n",
      "embarked        2\n",
      "boat          823\n",
      "body         1188\n",
      "home.dest     564\n",
      "dtype: int64\n",
      "\n",
      "Are there any missing values in the dataset? True\n",
      "\n",
      "Percentage of Missing Values:\n",
      " pclass        0.000000\n",
      "survived      0.000000\n",
      "name          0.000000\n",
      "sex           0.000000\n",
      "age          20.091673\n",
      "sibsp         0.000000\n",
      "parch         0.000000\n",
      "ticket        0.000000\n",
      "fare          0.076394\n",
      "cabin        77.463713\n",
      "embarked      0.152788\n",
      "boat         62.872422\n",
      "body         90.756303\n",
      "home.dest    43.086325\n",
      "dtype: float64\n"
     ]
    }
   ],
   "source": [
    "import pandas as pd\n",
    "import seaborn as sns\n",
    "import matplotlib.pyplot as plt\n",
    "\n",
    "# Load the dataset\n",
    "df = pd.read_csv(\"titanic_data_2.csv\")\n",
    "\n",
    "# Check for missing values count\n",
    "missing_values = df.isnull().sum()\n",
    "\n",
    "# Check if there are any missing values in the dataset\n",
    "any_missing = df.isnull().values.any()\n",
    "\n",
    "# Calculate the percentage of missing values\n",
    "missing_percentage = (df.isnull().sum() / len(df)) * 100\n",
    "\n",
    "# Visualize missing values using a heatmap\n",
    "plt.figure(figsize=(10,6))\n",
    "sns.heatmap(df.isnull(), cmap=\"viridis\", cbar=False, yticklabels=False)\n",
    "plt.title(\"Missing Values Heatmap\")\n",
    "plt.show()\n",
    "\n",
    "# Display results\n",
    "print(\"Missing Values Count:\\n\", missing_values)\n",
    "print(\"\\nAre there any missing values in the dataset?\", any_missing)\n",
    "print(\"\\nPercentage of Missing Values:\\n\", missing_percentage)\n"
   ]
  },
  {
   "cell_type": "markdown",
   "id": "7ed213a7",
   "metadata": {},
   "source": [
    "2. Identifying Missing Values in the Titanic Dataset\n",
    "\n",
    "The dataset contains missing values in several columns:\n",
    "\n",
    "Age: 263 missing values\n",
    "Fare: 1 missing value\n",
    "Cabin: 1014 missing values\n",
    "Embarked: 2 missing values\n",
    "Boat: 823 missing values\n",
    "Body: 1188 missing values\n",
    "Home/Destination: 564 missing values"
   ]
  },
  {
   "cell_type": "markdown",
   "id": "28e20bb9",
   "metadata": {},
   "source": [
    "3. Methods for Handling Missing Data in Pandas\n",
    "\n",
    "- dropna() – Removes rows or columns with missing values.\n",
    "  Use when missing data is minimal and dropping it won't significantly reduce dataset size.\n",
    "- fillna(value) – Replaces missing values with a specified value (e.g., mean, median).\n",
    "  Use when data loss is undesirable, and replacing values makes sense.\n",
    "- interpolate() – Fills missing values using interpolation (linear, polynomial, etc.).\n",
    "  Useful for time-series or continuous numerical data.\n",
    "- ffill() / bfill() – Forward or backward fills missing values with adjacent data.\n",
    "  Suitable for ordered datasets where previous or next values are meaningful replacements."
   ]
  },
  {
   "cell_type": "code",
   "execution_count": 3,
   "id": "a6e6de11",
   "metadata": {},
   "outputs": [
    {
     "name": "stdout",
     "output_type": "stream",
     "text": [
      "Missing values in 'Age' after filling: 0\n"
     ]
    }
   ],
   "source": [
    "# 4. Calculate the median age\n",
    "median_age = df['age'].median()\n",
    "\n",
    "# Fill missing values in 'Age' column with the median age\n",
    "df['age'].fillna(median_age, inplace=True)\n",
    "\n",
    "# Verify that missing values in 'Age' are handled\n",
    "print(\"Missing values in 'Age' after filling:\", df['age'].isnull().sum())\n"
   ]
  },
  {
   "cell_type": "markdown",
   "id": "62b28683",
   "metadata": {},
   "source": [
    "Clean the Titanic dataset by filling missing values in the 'Age' column\n",
    "with the median age of the passengers, and explain your choice.\n",
    "\n",
    "To clean the dataset, we will fill missing values in the 'Age' column with the median age of passengers. \n",
    "The median is a better choice than the mean because it is less affected by outliers. This ensures that the filled values \n",
    "represent the central tendency of the data without being skewed by extreme values."
   ]
  },
  {
   "cell_type": "code",
   "execution_count": 5,
   "id": "0b047802",
   "metadata": {},
   "outputs": [
    {
     "name": "stdout",
     "output_type": "stream",
     "text": [
      "Number of duplicate rows: 0\n"
     ]
    }
   ],
   "source": [
    "#5. Explain how duplicate records can impact analysis.\n",
    "\n",
    "# Check for duplicate records\n",
    "duplicate_count = df.duplicated().sum()\n",
    "print(\"Number of duplicate rows:\", duplicate_count)\n",
    "\n",
    "# Remove duplicate records\n",
    "df.drop_duplicates(inplace=True)\n"
   ]
  },
  {
   "cell_type": "markdown",
   "id": "9486ccc2",
   "metadata": {},
   "source": [
    "Duplicate records can negatively affect data analysis in several ways:\n",
    "\n",
    "Skewed Statistics: Duplicates can inflate counts and averages, leading to misleading conclusions.\n",
    "Incorrect Model Training: In machine learning, duplicates can cause bias and overfitting, reducing model accuracy.\n",
    "Inaccurate Reporting: Business decisions based on incorrect data may lead to poor strategic choices.\n",
    "Increased Storage & Processing Costs: More duplicates mean unnecessary memory usage and slower computations."
   ]
  },
  {
   "cell_type": "code",
   "execution_count": 23,
   "id": "61932112",
   "metadata": {},
   "outputs": [
    {
     "name": "stdout",
     "output_type": "stream",
     "text": [
      "Number of duplicate rows: 0\n",
      "Number of duplicate rows after removal: 0\n"
     ]
    }
   ],
   "source": [
    "#6. Demonstrate how to detect and remove duplicate rows using Pandas’ “drop_duplicates()” method.\n",
    "\n",
    "import pandas as pd\n",
    "\n",
    "# Load the Titanic dataset\n",
    "df = pd.read_csv(\"titanic_data.csv\")\n",
    "\n",
    "# Detect duplicate rows\n",
    "duplicate_count = df.duplicated().sum()\n",
    "print(\"Number of duplicate rows:\", duplicate_count)\n",
    "\n",
    "# Remove duplicate rows\n",
    "df_cleaned = df.drop_duplicates()\n",
    "\n",
    "# Verify duplicate removal\n",
    "duplicate_count_after = df_cleaned.duplicated().sum()\n",
    "print(\"Number of duplicate rows after removal:\", duplicate_count_after)\n",
    "\n"
   ]
  },
  {
   "cell_type": "code",
   "execution_count": 24,
   "id": "38e437d7",
   "metadata": {},
   "outputs": [
    {
     "name": "stdout",
     "output_type": "stream",
     "text": [
      "Number of duplicate rows before removal: 0\n",
      "No duplicates found in the dataset.\n",
      "Cleaned dataset saved as 'titanic_cleaned.csv'.\n"
     ]
    }
   ],
   "source": [
    "#7. Check the Titanic dataset for duplicates and remove any found, if applicable.\n",
    "\n",
    "import pandas as pd\n",
    "\n",
    "# Load the Titanic dataset\n",
    "df = pd.read_csv(\"titanic_data.csv\")\n",
    "\n",
    "# Check for duplicate rows\n",
    "duplicate_count = df.duplicated().sum()\n",
    "print(\"Number of duplicate rows before removal:\", duplicate_count)\n",
    "\n",
    "# Remove duplicates if any exist\n",
    "if duplicate_count > 0:\n",
    "    df = df.drop_duplicates()\n",
    "    print(\"Duplicates were found and removed.\")\n",
    "else:\n",
    "    print(\"No duplicates found in the dataset.\")\n",
    "\n",
    "# Save the cleaned dataset (optional)\n",
    "df.to_csv(\"titanic_cleaned.csv\", index=False)\n",
    "print(\"Cleaned dataset saved as 'titanic_cleaned.csv'.\")\n"
   ]
  },
  {
   "cell_type": "code",
   "execution_count": 10,
   "id": "9fad2072",
   "metadata": {},
   "outputs": [],
   "source": [
    "# 8. Perform every other data cleaning step to prepare the data for analysis\n",
    "# (e.g., Convert the passenger class column from numeric values to categorical labels)\n",
    "\n",
    "def clean_titanic_data(df):\n",
    "    # Convert 'pclass' from numeric to categorical labels\n",
    "    df['pclass'] = df['pclass'].map({1: '1st class', 2: '2nd class', 3: '3rd class'})\n",
    "    \n",
    "    # Handle missing values\n",
    "    df['age'].fillna(df['age'].median(), inplace=True)\n",
    "    df['embarked'].fillna(df['embarked'].mode()[0], inplace=True)\n",
    "    df['fare'].fillna(df['fare'].median(), inplace=True)\n",
    "    \n",
    "    # Drop irrelevant columns\n",
    "    df.drop(columns=['cabin', 'boat', 'body', 'home.dest'], inplace=True)\n",
    "    \n",
    "    return df"
   ]
  },
  {
   "cell_type": "markdown",
   "id": "9ba7978c",
   "metadata": {},
   "source": [
    "9. Define what outliers are and discuss how they can impact data analysis\n",
    "\n",
    "Outliers are extreme values that deviate significantly from the rest of the dataset.\n",
    "They can skew statistical summaries, affect machine learning model performance, and mislead interpretations."
   ]
  },
  {
   "cell_type": "code",
   "execution_count": 11,
   "id": "e2a7bf41",
   "metadata": {},
   "outputs": [],
   "source": [
    "# 10. Demonstrate how to identify outliers in a numerical column like 'Fare' in the Titanic dataset\n",
    "import numpy as np\n",
    "import pandas as pd\n",
    "import seaborn as sns\n",
    "import matplotlib.pyplot as plt\n",
    "\n",
    "def detect_outliers(df, column):\n",
    "    Q1 = df[column].quantile(0.25)\n",
    "    Q3 = df[column].quantile(0.75)\n",
    "    IQR = Q3 - Q1\n",
    "    lower_bound = Q1 - 1.5 * IQR\n",
    "    upper_bound = Q3 + 1.5 * IQR\n",
    "    \n",
    "    outliers = df[(df[column] < lower_bound) | (df[column] > upper_bound)]\n",
    "    return outliers\n"
   ]
  },
  {
   "cell_type": "code",
   "execution_count": 22,
   "id": "12c6ebd6",
   "metadata": {},
   "outputs": [],
   "source": [
    "# 11. Choose a strategy (e.g., capping, removing) for handling outliers in the 'Fare' column, and explain why you \n",
    "#made this choice Strategy: Capping outliers to the upper bound to prevent extreme values from skewing analysis\n",
    "\n",
    "def handle_outliers(df, column):\n",
    "    Q1 = df[column].quantile(0.25)\n",
    "    Q3 = df[column].quantile(0.75)\n",
    "    IQR = Q3 - Q1\n",
    "    lower_bound = Q1 - 1.5 * IQR\n",
    "    upper_bound = Q3 + 1.5 * IQR\n",
    "    \n",
    "    df[column] = np.where(df[column] > upper_bound, upper_bound, df[column])\n",
    "    df[column] = np.where(df[column] < lower_bound, lower_bound, df[column])\n",
    "    \n",
    "    return df\n"
   ]
  },
  {
   "cell_type": "markdown",
   "id": "5ddf3b97",
   "metadata": {},
   "source": [
    "## 2. Data Transformation and Normalization"
   ]
  },
  {
   "cell_type": "markdown",
   "id": "74ee107b",
   "metadata": {},
   "source": [
    "1. Importance of Ensuring the Correct Data Types in a DataFrame\n",
    "Ensuring correct data types in a DataFrame is crucial because:\n",
    "\n",
    "Memory Efficiency: Using appropriate data types reduces memory usage, making computations faster.\n",
    "Accurate Calculations: Numeric operations require correct data types to avoid errors (e.g., string-based numbers may not allow mathematical operations).\n",
    "Correct Data Handling: Some functions behave differently based on data types (e.g., categorical vs. numerical).\n",
    "Ensuring Data Integrity: Misclassified data types (e.g., dates stored as strings) can lead to incorrect interpretations."
   ]
  },
  {
   "cell_type": "code",
   "execution_count": 4,
   "id": "6e712969",
   "metadata": {},
   "outputs": [
    {
     "name": "stdout",
     "output_type": "stream",
     "text": [
      "Index(['pclass', 'survived', 'name', 'sex', 'age', 'sibsp', 'parch', 'ticket',\n",
      "       'fare', 'cabin', 'embarked', 'boat', 'body', 'home.dest'],\n",
      "      dtype='object')\n"
     ]
    }
   ],
   "source": [
    "#2. Examine the data types of each column in the Titanic dataset using the“dtypes” attribute and convert any columns that \n",
    "#are incorrectly typed (e.g., convert 'PassengerId' to a string type).\n",
    "\n",
    "import pandas as pd\n",
    "\n",
    "# Load the dataset\n",
    "file_path = \"titanic_data_2.csv\"\n",
    "df = pd.read_csv(file_path)\n",
    "\n",
    "# Display column names\n",
    "print(df.columns)\n",
    "\n",
    "df.columns = df.columns.str.strip()  # Remove leading/trailing spaces\n",
    "df.columns = df.columns.str.lower()  # Convert to lowercase for consistency\n",
    "\n",
    "\n",
    "\n",
    "#PassengerId should be a string because it is an identifier, not a numeric value.\n",
    "#Pclass (Passenger class) is categorical, so converting it to a string makes sense for analysis."
   ]
  },
  {
   "cell_type": "markdown",
   "id": "25d1c0a0",
   "metadata": {},
   "source": [
    "3. How Transforming Data Leads to New Insights\n",
    "Data transformation helps extract meaningful insights by:\n",
    "\n",
    "Creating Derived Features: New features like \"FamilySize\" can reveal survival patterns.\n",
    "Standardizing Data: Normalization helps in machine learning applications.\n",
    "Simplifying Analysis: Converting complex data (e.g., timestamps) into readable formats aids interpretation.\n",
    "Enhancing Comparisons: Features like \"FarePerPerson\" make economic class comparisons easier."
   ]
  },
  {
   "cell_type": "code",
   "execution_count": 18,
   "id": "85a02733",
   "metadata": {
    "scrolled": true
   },
   "outputs": [
    {
     "name": "stdout",
     "output_type": "stream",
     "text": [
      "   sibsp  parch  FamilySize\n",
      "0      0      0           1\n",
      "1      1      2           4\n",
      "2      1      2           4\n",
      "3      1      2           4\n",
      "4      1      2           4\n"
     ]
    }
   ],
   "source": [
    "#4. Create a new feature called “FamilySize” by summing the 'SibSp' and 'Parch' columns, adding 1 \n",
    "#(to include the passenger themselves).\n",
    "\n",
    "df['FamilySize'] = df['sibsp'] + df['parch'] + 1\n",
    "print(df[['sibsp', 'parch', 'FamilySize']].head())\n",
    "\n",
    "#The new FamilySize feature represents the total number of people in a passenger's family, including themselves:\n",
    "#This feature helps analyze survival likelihood—larger families may have struggled more to survive."
   ]
  },
  {
   "cell_type": "code",
   "execution_count": 17,
   "id": "e848ab2f",
   "metadata": {},
   "outputs": [
    {
     "name": "stdout",
     "output_type": "stream",
     "text": [
      "       fare  FamilySize  FarePerPerson\n",
      "0  211.3375           1       211.3375\n",
      "1  151.5500           4        37.8875\n",
      "2  151.5500           4        37.8875\n",
      "3  151.5500           4        37.8875\n",
      "4  151.5500           4        37.8875\n"
     ]
    }
   ],
   "source": [
    "#5. Create another feature called “FarePerPerson” by dividing the 'Fare' by the new “FamilySize” feature, and explain how \n",
    "#this new feature could provide more insights about passengers' economic backgrounds\n",
    "\n",
    "df['FarePerPerson'] = df['fare'] / df['FamilySize']\n",
    "print(df[['fare', 'FamilySize', 'FarePerPerson']].head())\n",
    "\n",
    "#The FarePerPerson feature helps determine economic standing by dividing total fare by family size:\n",
    "#Insight: A lower FarePerPerson suggests a lower-class passenger, while higher values suggest wealthier passengers.\n",
    "#Why Useful? Wealthier passengers (with high fares) might have had better survival chances due to access to lifeboats."
   ]
  },
  {
   "cell_type": "markdown",
   "id": "2f0012ed",
   "metadata": {},
   "source": [
    "## 3. Merging and Concatenating DataFrames"
   ]
  },
  {
   "cell_type": "code",
   "execution_count": 20,
   "id": "9556d5c7",
   "metadata": {},
   "outputs": [
    {
     "name": "stdout",
     "output_type": "stream",
     "text": [
      "Merged DataFrame:\n",
      "    ID     Name  Score\n",
      "0   3  Charlie     85\n",
      "\n",
      "Concatenated DataFrame:\n",
      "    ID     Name  Score\n",
      "0   1    Alice    NaN\n",
      "1   2      Bob    NaN\n",
      "2   3  Charlie    NaN\n",
      "3   3      NaN   85.0\n",
      "4   4      NaN   90.0\n",
      "5   5      NaN   95.0\n"
     ]
    }
   ],
   "source": [
    "#1. Explain the difference between merging and concatenating DataFrames.\n",
    "\n",
    "# Merging vs. Concatenating DataFrames\n",
    "\n",
    "# Merging combines DataFrames based on a common key (like SQL joins).\n",
    "# Concatenation stacks DataFrames either vertically (adding rows) or horizontally (adding columns).\n",
    "\n",
    "import pandas as pd\n",
    "\n",
    "# Example DataFrames\n",
    "df1 = pd.DataFrame({'ID': [1, 2, 3], 'Name': ['Alice', 'Bob', 'Charlie']})\n",
    "df2 = pd.DataFrame({'ID': [3, 4, 5], 'Score': [85, 90, 95]})\n",
    "\n",
    "# Merging (inner join by default)\n",
    "merged_df = pd.merge(df1, df2, on='ID')\n",
    "\n",
    "# Concatenating (stacking DataFrames vertically)\n",
    "concat_df = pd.concat([df1, df2], ignore_index=True)\n",
    "\n",
    "print(\"Merged DataFrame:\\n\", merged_df)\n",
    "print(\"\\nConcatenated DataFrame:\\n\", concat_df)\n"
   ]
  },
  {
   "cell_type": "code",
   "execution_count": 21,
   "id": "28824056",
   "metadata": {},
   "outputs": [
    {
     "name": "stdout",
     "output_type": "stream",
     "text": [
      "Original DataFrame Shape: (1309, 14)\n",
      "Concatenated DataFrame Shape: (1309, 14)\n"
     ]
    }
   ],
   "source": [
    "#2. Split the Titanic dataset into two subsets: one containing passengerswho survived and one containing passengers who did not \n",
    "#survive.Concatenate these two DataFrames back together using the “concat()” function.\n",
    "\n",
    "# Load Titanic dataset\n",
    "df = pd.read_csv(\"titanic_data_2.csv\")\n",
    "\n",
    "# Splitting dataset into survivors and non-survivors\n",
    "survivors = df[df[\"survived\"] == 1]\n",
    "non_survivors = df[df[\"survived\"] == 0]\n",
    "\n",
    "# Concatenating them back together\n",
    "recombined_df = pd.concat([survivors, non_survivors])\n",
    "\n",
    "# Display the shape to confirm\n",
    "print(\"Original DataFrame Shape:\", df.shape)\n",
    "print(\"Concatenated DataFrame Shape:\", recombined_df.shape)\n"
   ]
  },
  {
   "cell_type": "code",
   "execution_count": 26,
   "id": "612482d8",
   "metadata": {},
   "outputs": [
    {
     "name": "stdout",
     "output_type": "stream",
     "text": [
      "Inner Join:\n",
      "    ID     Name  Score\n",
      "0   3  Charlie     85\n",
      "\n",
      "Left Join:\n",
      "    ID     Name  Score\n",
      "0   1    Alice    NaN\n",
      "1   2      Bob    NaN\n",
      "2   3  Charlie   85.0\n",
      "\n",
      "Right Join:\n",
      "    ID     Name  Score\n",
      "0   3  Charlie     85\n",
      "1   4      NaN     90\n",
      "2   5      NaN     95\n",
      "\n",
      "Outer Join:\n",
      "    ID     Name  Score\n",
      "0   1    Alice    NaN\n",
      "1   2      Bob    NaN\n",
      "2   3  Charlie   85.0\n",
      "3   4      NaN   90.0\n",
      "4   5      NaN   95.0\n"
     ]
    }
   ],
   "source": [
    "# 3. Describe the different types of joins (inner, outer, left, right) used in merging DataFrames.\n",
    "\n",
    "# Different Types of Joins in Merging DataFrames\n",
    "\n",
    "\"\"\"\n",
    "1. INNER JOIN:\n",
    "   - Keeps only the rows where there is a match in both DataFrames.\n",
    "   - Example: If two DataFrames have a common 'ID' column, only IDs that exist in both will be kept.\n",
    "\n",
    "2. LEFT JOIN:\n",
    "   - Keeps all rows from the left DataFrame and only matching rows from the right DataFrame.\n",
    "   - If there is no match, NaN (missing values) will be filled in.\n",
    "\n",
    "3. RIGHT JOIN:\n",
    "   - Keeps all rows from the right DataFrame and only matching rows from the left DataFrame.\n",
    "   - If there is no match, NaN (missing values) will be filled in.\n",
    "\n",
    "4. OUTER JOIN:\n",
    "   - Combines all rows from both DataFrames.\n",
    "   - If a match is not found, missing values (NaN) will be filled in for the non-matching parts.\n",
    "\n",
    "Example:\n",
    "\"\"\"\n",
    "\n",
    "import pandas as pd\n",
    "\n",
    "df1 = pd.DataFrame({'ID': [1, 2, 3], 'Name': ['Alice', 'Bob', 'Charlie']})\n",
    "df2 = pd.DataFrame({'ID': [3, 4, 5], 'Score': [85, 90, 95]})\n",
    "\n",
    "inner_join = pd.merge(df1, df2, on='ID', how='inner')  # Only matching rows\n",
    "left_join = pd.merge(df1, df2, on='ID', how='left')    # All from df1, matching from df2\n",
    "right_join = pd.merge(df1, df2, on='ID', how='right')  # All from df2, matching from df1\n",
    "outer_join = pd.merge(df1, df2, on='ID', how='outer')  # All rows from both\n",
    "\n",
    "print(\"Inner Join:\\n\", inner_join)\n",
    "print(\"\\nLeft Join:\\n\", left_join)\n",
    "print(\"\\nRight Join:\\n\", right_join)\n",
    "print(\"\\nOuter Join:\\n\", outer_join)\n"
   ]
  },
  {
   "cell_type": "code",
   "execution_count": 27,
   "id": "0758fde0",
   "metadata": {},
   "outputs": [
    {
     "name": "stdout",
     "output_type": "stream",
     "text": [
      "   pclass  survived                                             name     sex  \\\n",
      "0       1         1                    Allen, Miss. Elisabeth Walton  female   \n",
      "1       1         1                   Allison, Master. Hudson Trevor    male   \n",
      "2       1         0                     Allison, Miss. Helen Loraine  female   \n",
      "3       1         0             Allison, Mr. Hudson Joshua Creighton    male   \n",
      "4       1         0  Allison, Mrs. Hudson J C (Bessie Waldo Daniels)  female   \n",
      "\n",
      "       age  sibsp  parch  ticket      fare    cabin embarked boat   body  \\\n",
      "0  29.0000      0      0   24160  211.3375       B5        S    2    NaN   \n",
      "1   0.9167      1      2  113781  151.5500  C22 C26        S   11    NaN   \n",
      "2   2.0000      1      2  113781  151.5500  C22 C26        S  NaN    NaN   \n",
      "3  30.0000      1      2  113781  151.5500  C22 C26        S  NaN  135.0   \n",
      "4  25.0000      1      2  113781  151.5500  C22 C26        S  NaN    NaN   \n",
      "\n",
      "                         home.dest  PassengerId Destination  \n",
      "0                     St Louis, MO            0    New York  \n",
      "1  Montreal, PQ / Chesterville, ON            1       Paris  \n",
      "2  Montreal, PQ / Chesterville, ON            2      London  \n",
      "3  Montreal, PQ / Chesterville, ON            3      Berlin  \n",
      "4  Montreal, PQ / Chesterville, ON            4       Tokyo  \n"
     ]
    }
   ],
   "source": [
    "# 4. Suppose you have an additional DataFrame containing information about passengers’ destinations. Demonstrate how to merge \n",
    "#this DataFrame with the Titanic dataset using “merge()” based on a common key like 'PassengerId'.\n",
    "\n",
    "# Creating a mock DataFrame for passenger destinations\n",
    "destinations_df = pd.DataFrame({\n",
    "    'PassengerId': df.index[:10],  # Assuming PassengerId is the index\n",
    "    'Destination': ['New York', 'Paris', 'London', 'Berlin', 'Tokyo',\n",
    "                    'Rome', 'Sydney', 'Madrid', 'Toronto', 'Dublin']\n",
    "})\n",
    "\n",
    "# Merging with Titanic dataset on PassengerId\n",
    "merged_df = pd.merge(df, destinations_df, left_index=True, right_on=\"PassengerId\")\n",
    "\n",
    "print(merged_df.head())\n"
   ]
  },
  {
   "cell_type": "code",
   "execution_count": 24,
   "id": "46c1d8ac",
   "metadata": {},
   "outputs": [
    {
     "name": "stdout",
     "output_type": "stream",
     "text": [
      "   ID     Name  Score\n",
      "0   3  Charlie     85\n"
     ]
    }
   ],
   "source": [
    "# 5. Perform an inner join, and explain how the join type affects the final DataFrame.\n",
    "\n",
    "# Inner Join Effect: Keeps only matching records in both DataFrames\n",
    "df1 = pd.DataFrame({'ID': [1, 2, 3], 'Name': ['Alice', 'Bob', 'Charlie']})\n",
    "df2 = pd.DataFrame({'ID': [3, 4, 5], 'Score': [85, 90, 95]})\n",
    "\n",
    "inner_join = pd.merge(df1, df2, on='ID', how='inner')\n",
    "\n",
    "# Only 'ID' 3 is common, so only this row is kept\n",
    "print(inner_join)\n"
   ]
  },
  {
   "cell_type": "code",
   "execution_count": 25,
   "id": "efd223e7",
   "metadata": {},
   "outputs": [
    {
     "name": "stdout",
     "output_type": "stream",
     "text": [
      "has_private_bathroom  has_balcony\n",
      "0.0                   0.0            0.500000\n",
      "                      1.0            1.000000\n",
      "1.0                   0.0            0.666667\n",
      "                      1.0            0.500000\n",
      "Name: survived, dtype: float64\n"
     ]
    }
   ],
   "source": [
    "# Suppose you have a DataFrame containing information about passengers' cabin numbers and their amenities. Merge this DataFrame\n",
    "#with the Titanic dataset to explore if access to amenities influenced survival rates. Perform an analysis using a “groupby()” \n",
    "#function to calculate survival rates based on amenities.\n",
    "\n",
    "# Mock DataFrame for cabin amenities\n",
    "cabin_amenities_df = pd.DataFrame({\n",
    "    'cabin': ['C85', 'C123', 'B42', 'E31', 'D56'],\n",
    "    'has_private_bathroom': [1, 1, 0, 0, 1],\n",
    "    'has_balcony': [1, 0, 1, 0, 0]\n",
    "})\n",
    "\n",
    "# Merge with Titanic dataset on 'cabin' column\n",
    "merged_df = pd.merge(df, cabin_amenities_df, on=\"cabin\", how=\"left\")\n",
    "\n",
    "# Analyze survival rates based on amenities\n",
    "amenity_survival_rates = merged_df.groupby(['has_private_bathroom', 'has_balcony'])['survived'].mean()\n",
    "\n",
    "print(amenity_survival_rates)\n"
   ]
  },
  {
   "cell_type": "markdown",
   "id": "b97bdba2",
   "metadata": {},
   "source": [
    "## 4. Advanced Data Cleaning Techniques"
   ]
  },
  {
   "cell_type": "markdown",
   "id": "418d47f7",
   "metadata": {},
   "source": [
    "1. String Manipulation:\n",
    "\n",
    "\"\"\"\n",
    "String manipulation refers to the process of modifying, analyzing, and transforming text data.\n",
    "It is commonly used in data cleaning, feature extraction, and text preprocessing.\n",
    "\n",
    "In Pandas, string manipulation is done using the `.str` accessor, which allows operations like:\n",
    "- Changing case: `.str.upper()`, `.str.lower()`\n",
    "- Removing whitespace: `.str.strip()`\n",
    "- Replacing text: `.str.replace()`\n",
    "- Extracting patterns: `.str.extract()`\n",
    "- Splitting text: `.str.split()`\n",
    "\n",
    "These functions are useful for handling messy text data, such as correcting formatting issues,\n",
    "extracting key information, and preparing text for analysis.\n",
    "\"\"\""
   ]
  },
  {
   "cell_type": "markdown",
   "id": "498fe9ea",
   "metadata": {},
   "source": [
    "2. Explain how Pandas can handle string manipulation for cleaning and\n",
    "transforming text data.\n",
    "\n",
    "How Pandas Handles String Manipulation\n",
    "\n",
    "\"\"\"\n",
    "Pandas provides powerful string manipulation functions via the `.str` accessor.\n",
    "It allows us to clean and transform text data in a DataFrame efficiently.\n",
    "\n",
    "Some common string operations in Pandas include:\n",
    "- `.str.lower()`, `.str.upper()`, `.str.capitalize()`: Changing letter case\n",
    "- `.str.strip()`: Removing whitespace\n",
    "- `.str.replace()`: Replacing substrings\n",
    "- `.str.contains()`: Checking for a substring\n",
    "- `.str.extract()`: Extracting patterns using regular expressions\n",
    "- `.str.split()`: Splitting strings based on a delimiter\n",
    "\n",
    "These functions are useful for cleaning messy datasets and extracting meaningful information.\n",
    "\"\"\"\n"
   ]
  },
  {
   "cell_type": "code",
   "execution_count": 28,
   "id": "289ae4f2",
   "metadata": {},
   "outputs": [
    {
     "name": "stdout",
     "output_type": "stream",
     "text": [
      "  Cabin  Deck\n",
      "0   C85     C\n",
      "1   B20     B\n",
      "2  C123     C\n",
      "3   D10     D\n",
      "4  None  None\n"
     ]
    }
   ],
   "source": [
    "#3. Use Pandas’ string functions to extract the first letter from the 'Cabin' column to create a new column that \n",
    "#represents the deck of each passenger.\n",
    "\n",
    "import pandas as pd\n",
    "\n",
    "# Sample Titanic dataset with 'Cabin' column\n",
    "data = {'PassengerId': [1, 2, 3, 4, 5],\n",
    "        'Cabin': ['C85', 'B20', 'C123', 'D10', None]}\n",
    "\n",
    "df = pd.DataFrame(data)\n",
    "\n",
    "# Extracting the first letter from the 'Cabin' column\n",
    "df['Deck'] = df['Cabin'].str[0]  # Gets the first character of each string\n",
    "\n",
    "print(df[['Cabin', 'Deck']])\n"
   ]
  },
  {
   "cell_type": "code",
   "execution_count": 34,
   "id": "91ad78c5",
   "metadata": {},
   "outputs": [
    {
     "name": "stdout",
     "output_type": "stream",
     "text": [
      "Deck\n",
      "A    0.500000\n",
      "B    0.723077\n",
      "C    0.606383\n",
      "D    0.695652\n",
      "E    0.731707\n",
      "F    0.619048\n",
      "G    0.600000\n",
      "T    0.000000\n",
      "Name: survived, dtype: float64\n"
     ]
    }
   ],
   "source": [
    "#4. Investigate whether passengers from different decks had different survival rates.\n",
    "\n",
    "# Loading the Titanic dataset\n",
    "titanic_df = pd.read_csv(\"titanic_data_2.csv\")\n",
    "\n",
    "# Extracting deck information from 'Cabin'\n",
    "titanic_df['Deck'] = titanic_df['cabin'].str[0]  # Extracts first letter\n",
    "\n",
    "# Calculating survival rates by deck\n",
    "survival_rates = titanic_df.groupby('Deck')['survived'].mean()\n",
    "\n",
    "print(survival_rates)\n",
    "\n"
   ]
  },
  {
   "cell_type": "code",
   "execution_count": null,
   "id": "08b2c317",
   "metadata": {},
   "outputs": [],
   "source": []
  }
 ],
 "metadata": {
  "kernelspec": {
   "display_name": "Python 3 (ipykernel)",
   "language": "python",
   "name": "python3"
  },
  "language_info": {
   "codemirror_mode": {
    "name": "ipython",
    "version": 3
   },
   "file_extension": ".py",
   "mimetype": "text/x-python",
   "name": "python",
   "nbconvert_exporter": "python",
   "pygments_lexer": "ipython3",
   "version": "3.9.12"
  }
 },
 "nbformat": 4,
 "nbformat_minor": 5
}
