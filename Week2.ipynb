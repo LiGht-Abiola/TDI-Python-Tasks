{
 "cells": [
  {
   "cell_type": "code",
   "execution_count": 2,
   "id": "974d9e1d",
   "metadata": {},
   "outputs": [
    {
     "name": "stdout",
     "output_type": "stream",
     "text": [
      "Enter your score here: 45\n",
      "Fail\n"
     ]
    }
   ],
   "source": [
    "#1. If-Else and Elif Statements Write a Python function called “check_grade” that takes a score as input and\n",
    "#prints \"Pass\" if the score is 50 or higher, and \"Fail\" otherwise. Extend the\n",
    "#function to print \"Excellent\" if the score is 90 or above.\n",
    "\n",
    "def check_grade():\n",
    "    score = int(input(\"Enter your score here: \" ))\n",
    "    if score >= 90:\n",
    "        print(\"Excellent\")\n",
    "    elif score >= 50:\n",
    "        print(\"Pass\")\n",
    "    else:\n",
    "        print(\"Fail\")\n",
    "\n",
    "check_grade()"
   ]
  },
  {
   "cell_type": "code",
   "execution_count": 3,
   "id": "10fd1209",
   "metadata": {},
   "outputs": [
    {
     "name": "stdout",
     "output_type": "stream",
     "text": [
      "The square of 1 is 1\n",
      "The square of 2 is 4\n",
      "The square of 3 is 9\n",
      "The square of 4 is 16\n",
      "The square of 5 is 25\n",
      "The square of 6 is 36\n",
      "The square of 7 is 49\n",
      "The square of 8 is 64\n",
      "The square of 9 is 81\n",
      "The square of 10 is 100\n"
     ]
    }
   ],
   "source": [
    "#2. For Loop with List Create a list called “numbers” containing integers from 1 to 10. Write a “for”\n",
    "#loop to iterate through the list and print the square of each number.\n",
    "\n",
    "numbers = (1, 2, 3, 4, 5, 6, 7, 8, 9, 10)\n",
    "\n",
    "for number in numbers:\n",
    "    print(\"The square of\", number, \"is\", number**2)"
   ]
  },
  {
   "cell_type": "code",
   "execution_count": 4,
   "id": "e0de383f",
   "metadata": {},
   "outputs": [
    {
     "name": "stdout",
     "output_type": "stream",
     "text": [
      "The sum of numbers from 1 to 100 is 5050\n"
     ]
    }
   ],
   "source": [
    "#3. While Loop Example Write a Python script that uses a “while” loop to sum numbers from 1 to 100. Print the result.\n",
    "\n",
    "sum_result = 0\n",
    "number = 1\n",
    "\n",
    "while number <= 100:\n",
    "    sum_result += number\n",
    "    number += 1\n",
    "    \n",
    "print(\"The sum of numbers from 1 to 100 is\", sum_result)\n"
   ]
  },
  {
   "cell_type": "code",
   "execution_count": 5,
   "id": "abe76895",
   "metadata": {},
   "outputs": [
    {
     "name": "stdout",
     "output_type": "stream",
     "text": [
      "The top student is Charlie\n"
     ]
    }
   ],
   "source": [
    "#4. Using Dictionaries Create a dictionary “student_scores” with the following key-value pairs: - “'Alice': 85”, - “'Bob': 75”,\n",
    "# - “'Charlie': 95”. Write a function called “get_top_student” that returns the student with the highest score.\n",
    "\n",
    "# Create the dictionary with student names and scores\n",
    "student_scores = {\n",
    "    'Alice': 85,\n",
    "    'Bob': 75,\n",
    "    'Charlie': 95\n",
    "}\n",
    "\n",
    "# Function to get the student with the highest score\n",
    "def get_top_student(scores):\n",
    "    top_student = max(scores, key=scores.get)  # Use max with key as the value of the dictionary\n",
    "    return top_student\n",
    "\n",
    "# Call the function and print the result\n",
    "print(f\"The top student is {get_top_student(student_scores)}\")\n"
   ]
  },
  {
   "cell_type": "code",
   "execution_count": 9,
   "id": "bb936de9",
   "metadata": {},
   "outputs": [
    {
     "name": "stdout",
     "output_type": "stream",
     "text": [
      "Updated student scores: {'Alice': 85, 'Bob': 75, 'Charlie': 95, 'David': 88}\n"
     ]
    }
   ],
   "source": [
    "#5.Updating Dictionary Add a new student “'David': 88” to the “student_scores” dictionary and then print the updated dictionary.\n",
    "\n",
    "# Create the initial dictionary\n",
    "student_scores = {\n",
    "    'Alice': 85,\n",
    "    'Bob': 75,\n",
    "    'Charlie': 95\n",
    "}\n",
    "\n",
    "# Add a new student 'David' with a score of 88\n",
    "student_scores['David'] = 88\n",
    "\n",
    "# Print the updated dictionary\n",
    "print(\"Updated student scores:\", student_scores)\n"
   ]
  },
  {
   "cell_type": "code",
   "execution_count": 10,
   "id": "a7a8c6de",
   "metadata": {},
   "outputs": [
    {
     "name": "stdout",
     "output_type": "stream",
     "text": [
      "Union of set_a and set_b: {1, 2, 3, 4, 5, 6, 7, 8}\n",
      "Intersection of set_a and set_b: {4, 5}\n",
      "Difference between set_a and set_b: {1, 2, 3}\n"
     ]
    }
   ],
   "source": [
    "#6. Set Operations Create two sets: - “set_a = {1, 2, 3, 4, 5}” - “set_b = {4, 5, 6, 7, 8}” Write Python statements to find \n",
    "#and print: - The union of the two sets. - The intersection of the two sets. - The difference between “set_a” and “set_b”.\n",
    "        \n",
    "# Create two sets\n",
    "set_a = {1, 2, 3, 4, 5}\n",
    "set_b = {4, 5, 6, 7, 8}\n",
    "\n",
    "# Find and print the union of the two sets\n",
    "union_result = set_a | set_b  # or use set_a.union(set_b)\n",
    "print(\"Union of set_a and set_b:\", union_result)\n",
    "\n",
    "# Find and print the intersection of the two sets\n",
    "intersection_result = set_a & set_b  # or use set_a.intersection(set_b)\n",
    "print(\"Intersection of set_a and set_b:\", intersection_result)\n",
    "\n",
    "# Find and print the difference between set_a and set_b\n",
    "difference_result = set_a - set_b  # or use set_a.difference(set_b)\n",
    "print(\"Difference between set_a and set_b:\", difference_result)\n"
   ]
  },
  {
   "cell_type": "code",
   "execution_count": 11,
   "id": "ccdea958",
   "metadata": {},
   "outputs": [
    {
     "name": "stdout",
     "output_type": "stream",
     "text": [
      "Even numbers from 1 to 20: [2, 4, 6, 8, 10, 12, 14, 16, 18, 20]\n"
     ]
    }
   ],
   "source": [
    "#7. List Comprehension Create a list of numbers from 1 to 20, then use a list comprehension to create a new list containing \n",
    "#only the even numbers from this range. Print the new list.\n",
    "\n",
    "# Create a list of numbers from 1 to 20\n",
    "numbers = list(range(1, 21))\n",
    "\n",
    "# Use list comprehension to create a new list with only even numbers\n",
    "even_numbers = [num for num in numbers if num % 2 == 0]\n",
    "\n",
    "# Print the new list\n",
    "print(\"Even numbers from 1 to 20:\", even_numbers)\n"
   ]
  },
  {
   "cell_type": "code",
   "execution_count": 13,
   "id": "0897ce30",
   "metadata": {},
   "outputs": [
    {
     "name": "stdout",
     "output_type": "stream",
     "text": [
      "Average score in Class A: 85.00\n",
      "Average score in Class B: 86.00\n"
     ]
    }
   ],
   "source": [
    "#8. Nested Dictionaries Create a nested dictionary “class_data” to store information about two classes of students. \n",
    "#Each class should have three students, and each student should have a name and a score. Example: “““python\n",
    "# class_data = { 'Class A': {'John': 85, 'Jane': 92, 'Tom': 78},\n",
    "# 'Class B': {'Alex': 88, 'Chris': 79, 'Emma': 91} } “““ Write a function to print the average score of students in each class.\n",
    "\n",
    "# Create a nested dictionary with class data\n",
    "class_data = {\n",
    "    'Class A': {'John': 85, 'Jane': 92, 'Tom': 78},\n",
    "    'Class B': {'Alex': 88, 'Chris': 79, 'Emma': 91}\n",
    "}\n",
    "\n",
    "# Function to calculate and print the average score of students in each class\n",
    "def print_average_scores(class_data):\n",
    "    for class_name, students in class_data.items():\n",
    "        total_score = sum(students.values())  # Sum all the scores of the students in the class\n",
    "        average_score = total_score / len(students)  # Calculate the average score\n",
    "        print(f\"Average score in {class_name}: {average_score:.2f}\")\n",
    "\n",
    "# Call the function to print average scores\n",
    "print_average_scores(class_data)\n",
    "\n"
   ]
  },
  {
   "cell_type": "code",
   "execution_count": 14,
   "id": "936264de",
   "metadata": {},
   "outputs": [
    {
     "name": "stdout",
     "output_type": "stream",
     "text": [
      "Numbers divisible by 3 : [3, 6, 9, 12, 15, 18]\n"
     ]
    }
   ],
   "source": [
    "#9. Conditional and Loop Combination Write a Python function “find_divisible_numbers” that takes two arguments: a list of \n",
    "#numbers and a divisor. The function should return a list of numbers from the input list that are divisible by the divisor. \n",
    "#Test the function with a list of numbers from 1 to 20 and a divisor of 3.\n",
    "\n",
    "# Function to find numbers divisible by a given divisor\n",
    "def find_divisible_numbers(numbers, divisor):\n",
    "    divisible_numbers = [num for num in numbers if num % divisor == 0]\n",
    "    return divisible_numbers\n",
    "\n",
    "# Test the function with a list of numbers from 1 to 20 and a divisor of 3\n",
    "numbers = list(range(1, 21))\n",
    "divisor = 3\n",
    "result = find_divisible_numbers(numbers, divisor)\n",
    "\n",
    "# Print the result\n",
    "print(\"Numbers divisible by\", divisor, \":\", result)\n"
   ]
  },
  {
   "cell_type": "code",
   "execution_count": 15,
   "id": "d4fe6556",
   "metadata": {},
   "outputs": [
    {
     "name": "stdout",
     "output_type": "stream",
     "text": [
      "1 2 3 \n",
      "4 5 6 \n",
      "7 8 9 \n"
     ]
    }
   ],
   "source": [
    "#10.Nested Loops and Lists Create a list of lists called “matrix”, representing a 3x3 matrix of integers. Write a Python script\n",
    "#that uses nested loops to print each element of the matrix. Example matrix: “““python matrix = [[1, 2, 3], [4, 5, 6], [7, 8, 9]] “““\n",
    "\n",
    "# Create a 3x3 matrix\n",
    "matrix = [\n",
    "    [1, 2, 3],\n",
    "    [4, 5, 6],\n",
    "    [7, 8, 9]\n",
    "]\n",
    "\n",
    "# Use nested loops to print each element of the matrix\n",
    "for row in matrix:\n",
    "    for element in row:\n",
    "        print(element, end=\" \")  # Print elements on the same line with a space\n",
    "    print()  # Move to the next line after each row\n"
   ]
  },
  {
   "cell_type": "code",
   "execution_count": 16,
   "id": "3b7a95a1",
   "metadata": {},
   "outputs": [
    {
     "name": "stdout",
     "output_type": "stream",
     "text": [
      "{1: 1, 2: 4, 3: 9, 4: 16, 5: 25}\n"
     ]
    }
   ],
   "source": [
    "#11. Dictionary Comprehension Write a Python dictionary comprehension that generates a dictionary where the keys are numbers \n",
    "#from 1 to 5, and the values are the squares of these numbers. Print the resulting dictionary.\n",
    "\n",
    "# Dictionary comprehension to generate a dictionary with squares\n",
    "squares_dict = {num: num ** 2 for num in range(1, 6)}\n",
    "\n",
    "# Print the resulting dictionary\n",
    "print(squares_dict)\n",
    "\n"
   ]
  },
  {
   "cell_type": "code",
   "execution_count": 17,
   "id": "f5fd35a7",
   "metadata": {},
   "outputs": [
    {
     "name": "stdout",
     "output_type": "stream",
     "text": [
      "'apple' is in the set.\n",
      "Final set of fruits: {'orange', 'apple', 'mango'}\n"
     ]
    }
   ],
   "source": [
    "#12. Modifying Sets Given the set “fruits = {'apple', 'banana', 'orange'}”, write a Python script to: - Add “'mango'“ to the set.\n",
    "#- Remove “'banana'“ from the set. - Check if “'apple'“ is in the set, and print an appropriate message. - Print the final set.\n",
    "\n",
    "# Given set of fruits\n",
    "fruits = {'apple', 'banana', 'orange'}\n",
    "\n",
    "# Add 'mango' to the set\n",
    "fruits.add('mango')\n",
    "\n",
    "# Remove 'banana' from the set\n",
    "fruits.remove('banana')\n",
    "\n",
    "# Check if 'apple' is in the set and print an appropriate message\n",
    "if 'apple' in fruits:\n",
    "    print(\"'apple' is in the set.\")\n",
    "else:\n",
    "    print(\"'apple' is not in the set.\")\n",
    "\n",
    "# Print the final set\n",
    "print(\"Final set of fruits:\", fruits)\n"
   ]
  },
  {
   "cell_type": "code",
   "execution_count": 18,
   "id": "3704fcd0",
   "metadata": {},
   "outputs": [
    {
     "name": "stdout",
     "output_type": "stream",
     "text": [
      "The first multiple of both 3 and 5 is: 15\n"
     ]
    }
   ],
   "source": [
    "#13. For Loop with Range and Break Write a Python function called “find_first_multiple” that takes an integer “n” as input and \n",
    "#uses a “for” loop to find the first number divisible by both 3 and 5 between 1 and “n”. If no such number is found, \n",
    "#print “\"No multiple found\"“.\n",
    "\n",
    "def find_first_multiple(n):\n",
    "    for num in range(1, n + 1):\n",
    "        if num % 3 == 0 and num % 5 == 0:\n",
    "            print(f\"The first multiple of both 3 and 5 is: {num}\")\n",
    "            break\n",
    "    else:\n",
    "        print(\"No multiple found\")\n",
    "\n",
    "# Test the function with a sample value of n\n",
    "find_first_multiple(50)\n",
    "\n"
   ]
  },
  {
   "cell_type": "code",
   "execution_count": 19,
   "id": "641e1a8c",
   "metadata": {},
   "outputs": [
    {
     "name": "stdout",
     "output_type": "stream",
     "text": [
      "{'Alice': 85, 'Bob': 90, 'Charlie': 78}\n"
     ]
    }
   ],
   "source": [
    "#14. Using Zip with Lists Create two lists: - “names = ['Alice', 'Bob', 'Charlie']” - “scores = [85, 90, 78]” Write a Python \n",
    "#function that uses the “zip()” function to combine these lists into a dictionary where the names are the keys and \n",
    "#the scores are the values.\n",
    "\n",
    "def create_dict(names, scores):\n",
    "    # Using zip() to combine names and scores into a dictionary\n",
    "    result = dict(zip(names, scores))\n",
    "    return result\n",
    "\n",
    "names = ['Alice', 'Bob', 'Charlie']\n",
    "scores = [85, 90, 78]\n",
    "\n",
    "# Call the function\n",
    "combined_dict = create_dict(names, scores)\n",
    "print(combined_dict)\n"
   ]
  },
  {
   "cell_type": "code",
   "execution_count": null,
   "id": "54f66828",
   "metadata": {},
   "outputs": [],
   "source": [
    "#15. Counting Frequency with Dictionary Write a Python function called “count_frequencies” that takes a list of words\n",
    "#and returns a dictionary where the keys are the words and the values are the number of times each word appears in the list. \n",
    "#Test the function with the list: “['apple', 'banana', 'apple', 'orange', 'banana', 'apple']”.\n",
    "\n",
    "def count_frequencies(words):\n",
    "    # Initialize an empty dictionary to store word counts\n",
    "    frequency_dict = {}\n",
    "    \n",
    "    # Loop through each word in the list\n",
    "    for word in words:\n",
    "        # If the word is already in the dictionary, increment its count\n",
    "        if word in frequency_dict:\n",
    "            frequency_dict[word] += 1\n",
    "        else:\n",
    "            # Otherwise, add the word to the dictionary with count 1\n",
    "            frequency_dict[word] = 1\n",
    "    \n",
    "    return frequency_dict\n",
    "\n",
    "# Test the function with the given list\n",
    "words_list = ['apple', 'banana', 'apple', 'orange', 'banana', 'apple']\n",
    "word_frequencies = count_frequencies(words_list)\n",
    "\n",
    "# Print the result\n",
    "print(word_frequencies)\n",
    "\n",
    "    \n"
   ]
  },
  {
   "cell_type": "code",
   "execution_count": 20,
   "id": "b47cbade",
   "metadata": {},
   "outputs": [
    {
     "name": "stdout",
     "output_type": "stream",
     "text": [
      "Union of set_1, set_2, and set_3: {1, 2, 3, 4, 5, 6, 7, 8}\n",
      "Intersection of set_1, set_2, and set_3: set()\n",
      "Symmetric difference between set_1 and set_2: {1, 2, 5, 6}\n"
     ]
    }
   ],
   "source": [
    "#16. Set Operations with Multiple Sets Given the sets: “““python set_1 = {1, 2, 3, 4} set_2 = {3, 4, 5, 6} set_3 = {5, 6, 7, 8}\n",
    "#“““ Write Python code to: - Find the union of “set_1”, “set_2”, and “set_3”. - Find the intersection of all three sets.\n",
    "#- Find the symmetric difference between “set_1” and “set_2”.\n",
    "\n",
    "# Define the sets\n",
    "set_1 = {1, 2, 3, 4}\n",
    "set_2 = {3, 4, 5, 6}\n",
    "set_3 = {5, 6, 7, 8}\n",
    "\n",
    "# Union of set_1, set_2, and set_3\n",
    "union_result = set_1 | set_2 | set_3\n",
    "\n",
    "# Intersection of set_1, set_2, and set_3\n",
    "intersection_result = set_1 & set_2 & set_3\n",
    "\n",
    "# Symmetric difference between set_1 and set_2\n",
    "symmetric_difference_result = set_1 ^ set_2\n",
    "\n",
    "# Print the results\n",
    "print(\"Union of set_1, set_2, and set_3:\", union_result)\n",
    "print(\"Intersection of set_1, set_2, and set_3:\", intersection_result)\n",
    "print(\"Symmetric difference between set_1 and set_2:\", symmetric_difference_result)\n"
   ]
  },
  {
   "cell_type": "code",
   "execution_count": 21,
   "id": "9396437b",
   "metadata": {},
   "outputs": [
    {
     "name": "stdout",
     "output_type": "stream",
     "text": [
      "Average grade of all students: 84.33333333333333\n"
     ]
    }
   ],
   "source": [
    "#17. Handling a List of Dictionaries Create a list of dictionaries where each dictionary represents a student, with keys for \n",
    "#“'name'“ and “'grade'“. Example: “““python students = [{'name': 'Alice', 'grade': 85}, {'name': 'Bob', 'grade': 90}, {'name':\n",
    "#'Charlie', 'grade': 78}] “““ Write a Python function to calculate and return the average grade of all students.\n",
    "\n",
    "def calculate_average_grade(students):\n",
    "    # Calculate the total grade by summing all the 'grade' values\n",
    "    total_grade = sum(student['grade'] for student in students)\n",
    "    \n",
    "    # Find the number of students\n",
    "    number_of_students = len(students)\n",
    "    \n",
    "    # Calculate the average grade\n",
    "    average_grade = total_grade / number_of_students\n",
    "    \n",
    "    return average_grade\n",
    "\n",
    "# List of students\n",
    "students = [{'name': 'Alice', 'grade': 85}, {'name': 'Bob', 'grade': 90}, {'name': 'Charlie', 'grade': 78}]\n",
    "\n",
    "# Call the function and print the result\n",
    "average = calculate_average_grade(students)\n",
    "print(\"Average grade of all students:\", average)\n"
   ]
  },
  {
   "cell_type": "code",
   "execution_count": 26,
   "id": "d1853393",
   "metadata": {},
   "outputs": [
    {
     "name": "stdout",
     "output_type": "stream",
     "text": [
      "The price of apple is: 1.2\n",
      "The price of grape is: Product not found\n"
     ]
    }
   ],
   "source": [
    "#18. Dictionary Lookup with Default Values Create a dictionary “product_prices” with product names as keys and prices as values. \n",
    "#Write a Python function that takes a product name as input and returns its price. If the product is not found in the dictionary, the function\n",
    "#should return “'Product not found'“.\n",
    "\n",
    "def get_product_price(product_name):\n",
    "    # Dictionary with product names as keys and prices as values\n",
    "    product_prices = {\n",
    "        'apple': 1.2,\n",
    "        'banana': 0.5,\n",
    "        'orange': 0.8,\n",
    "        'mango': 1.5\n",
    "    }\n",
    "    \n",
    "    # Use the get() method to fetch the price or return 'Product not found' if the product doesn't exist\n",
    "    return product_prices.get(product_name, 'Product not found')\n",
    "\n",
    "# Test the function with an example product name\n",
    "product_name = 'apple'\n",
    "price = get_product_price(product_name)\n",
    "print(f\"The price of {product_name} is: {price}\")\n",
    "\n",
    "# Test with a product that does not exist\n",
    "product_name = 'grape'\n",
    "price = get_product_price(product_name)\n",
    "print(f\"The price of {product_name} is: {price}\")\n"
   ]
  },
  {
   "cell_type": "code",
   "execution_count": 25,
   "id": "ab0470c7",
   "metadata": {},
   "outputs": [
    {
     "name": "stdout",
     "output_type": "stream",
     "text": [
      "Filtered and sorted list: [10, 8, 7]\n"
     ]
    }
   ],
   "source": [
    "#19. List Manipulation with Control Structures Write a Python function “filter_and_sort” that takes a list of numbers, filters\n",
    "#out all numbers less than 5, and returns the remaining numbers sorted in descending order. Test it with the list \n",
    "#“[3, 8, 1, 10, 4, 7]”.\n",
    "\n",
    "def filter_and_sort(numbers):\n",
    "    # Filter out numbers less than 5\n",
    "    filtered_numbers = [num for num in numbers if num >= 5]\n",
    "    \n",
    "    # Sort the remaining numbers in descending order\n",
    "    sorted_numbers = sorted(filtered_numbers, reverse=True)\n",
    "    \n",
    "    return sorted_numbers\n",
    "\n",
    "# Test the function with the given list\n",
    "numbers_list = [3, 8, 1, 10, 4, 7]\n",
    "result = filter_and_sort(numbers_list)\n",
    "\n",
    "# Print the result\n",
    "print(\"Filtered and sorted list:\", result)\n",
    "\n"
   ]
  },
  {
   "cell_type": "code",
   "execution_count": 27,
   "id": "b4abc4f0",
   "metadata": {},
   "outputs": [
    {
     "name": "stdout",
     "output_type": "stream",
     "text": [
      "No common elements\n"
     ]
    }
   ],
   "source": [
    "#20. Set Operations with Conditional Logic Write a Python script that creates two sets of numbers: - “evens = {2, 4, 6, 8, 10}”\n",
    "#- “odds = {1, 3, 5, 7, 9}” Use conditional logic to check if any number in “evens” also exists in “odds”. If so, print \n",
    "#a message indicating which number exists in both sets; otherwise, print “\"No common elements\"“\n",
    "\n",
    "# Create the sets\n",
    "evens = {2, 4, 6, 8, 10}\n",
    "odds = {1, 3, 5, 7, 9}\n",
    "\n",
    "# Check for common elements using conditional logic\n",
    "common_elements = evens & odds  # Intersection of the two sets\n",
    "\n",
    "if common_elements:\n",
    "    # If there are common elements, print them\n",
    "    print(f\"Common elements: {common_elements}\")\n",
    "else:\n",
    "    # If no common elements, print the message\n",
    "    print(\"No common elements\")\n",
    "\n"
   ]
  },
  {
   "cell_type": "code",
   "execution_count": null,
   "id": "ae90193c",
   "metadata": {},
   "outputs": [],
   "source": []
  },
  {
   "cell_type": "code",
   "execution_count": null,
   "id": "998a41aa",
   "metadata": {},
   "outputs": [],
   "source": []
  }
 ],
 "metadata": {
  "kernelspec": {
   "display_name": "Python 3 (ipykernel)",
   "language": "python",
   "name": "python3"
  },
  "language_info": {
   "codemirror_mode": {
    "name": "ipython",
    "version": 3
   },
   "file_extension": ".py",
   "mimetype": "text/x-python",
   "name": "python",
   "nbconvert_exporter": "python",
   "pygments_lexer": "ipython3",
   "version": "3.9.12"
  }
 },
 "nbformat": 4,
 "nbformat_minor": 5
}
