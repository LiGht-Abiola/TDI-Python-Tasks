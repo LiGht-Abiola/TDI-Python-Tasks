{
 "cells": [
  {
   "cell_type": "code",
   "execution_count": 1,
   "id": "9d9d9b11",
   "metadata": {},
   "outputs": [
    {
     "name": "stdout",
     "output_type": "stream",
     "text": [
      "a    10\n",
      "b    20\n",
      "c    30\n",
      "d    40\n",
      "dtype: int64\n"
     ]
    }
   ],
   "source": [
    "1. Introduction to Pandas\n",
    "- Explain the two primary data structures in Pandas: “Series” and “DataFrame”.\n",
    " - Discuss the advantages of Pandas compared to other libraries for handling\n",
    "structured data.\n",
    "\n",
    "import pandas as pd\n",
    "\n",
    "# Creating a Pandas Series\n",
    "data = pd.Series([10, 20, 30, 40], index=['a', 'b', 'c', 'd'])\n",
    "print(data)\n"
   ]
  },
  {
   "cell_type": "markdown",
   "id": "78e069f8",
   "metadata": {},
   "source": [
    "Two Primary Data Structures in Pandas\n",
    "\n",
    "a. Series:\n",
    "\n",
    "A one-dimensional labeled array that can hold any data type (integers, strings, floats, etc.).\n",
    "Similar to a column in an Excel sheet or a list in Python but with an index.\n"
   ]
  },
  {
   "cell_type": "code",
   "execution_count": 3,
   "id": "01b09ccd",
   "metadata": {},
   "outputs": [
    {
     "name": "stdout",
     "output_type": "stream",
     "text": [
      "      Name  Age  Salary\n",
      "0    Alice   25   50000\n",
      "1      Bob   30   60000\n",
      "2  Charlie   35   70000\n"
     ]
    }
   ],
   "source": [
    "# Creating a DataFrame\n",
    "df = pd.DataFrame({'Name': ['Alice', 'Bob', 'Charlie'],\n",
    "                   'Age': [25, 30, 35],\n",
    "                   'Salary': [50000, 60000, 70000]})\n",
    "print(df)\n"
   ]
  },
  {
   "cell_type": "markdown",
   "id": "92674b05",
   "metadata": {},
   "source": [
    "b. DataFrame:\n",
    "\n",
    "A two-dimensional labeled data structure (like an Excel table or SQL table).\n",
    "It consists of multiple Series (columns) and can store data of different types."
   ]
  },
  {
   "cell_type": "markdown",
   "id": "479de4f8",
   "metadata": {},
   "source": [
    "c. Advantages of Pandas Compared to Other Libraries\n",
    "\n",
    "- Easy Data Handling: Provides efficient ways to manipulate structured data.\n",
    "- Flexibility: Handles different types of data (numerical, textual, time series).\n",
    "- Built-in Functions: Supports filtering, sorting, aggregation, merging, and reshaping.\n",
    "- Integration: Works well with NumPy, Matplotlib, and SQL databases.\n",
    "- Faster Processing: Uses optimized C-based operations for speed."
   ]
  },
  {
   "cell_type": "code",
   "execution_count": 6,
   "id": "edcba13d",
   "metadata": {},
   "outputs": [],
   "source": [
    "#2. Understanding Pandas and Its Importance - Demonstrate how to import Pandas and explain its basic functionality.\n",
    "# - Load the Titanic dataset into a Pandas DataFrame.\n",
    "\n",
    "import pandas as pd\n",
    "#It allows data loading, cleaning, manipulation, and analysis.\n",
    "#Supports data filtering, grouping, reshaping, and exporting to different formats (CSV, Excel, JSON, etc.)."
   ]
  },
  {
   "cell_type": "code",
   "execution_count": 7,
   "id": "86b7aee3",
   "metadata": {},
   "outputs": [
    {
     "name": "stdout",
     "output_type": "stream",
     "text": [
      "   pclass  survived                                             name     sex  \\\n",
      "0       1         1                    Allen, Miss. Elisabeth Walton  female   \n",
      "1       1         1                   Allison, Master. Hudson Trevor    male   \n",
      "2       1         0                     Allison, Miss. Helen Loraine  female   \n",
      "3       1         0             Allison, Mr. Hudson Joshua Creighton    male   \n",
      "4       1         0  Allison, Mrs. Hudson J C (Bessie Waldo Daniels)  female   \n",
      "\n",
      "       age  sibsp  parch  ticket      fare    cabin embarked boat   body  \\\n",
      "0  29.0000      0      0   24160  211.3375       B5        S    2    NaN   \n",
      "1   0.9167      1      2  113781  151.5500  C22 C26        S   11    NaN   \n",
      "2   2.0000      1      2  113781  151.5500  C22 C26        S  NaN    NaN   \n",
      "3  30.0000      1      2  113781  151.5500  C22 C26        S  NaN  135.0   \n",
      "4  25.0000      1      2  113781  151.5500  C22 C26        S  NaN    NaN   \n",
      "\n",
      "                         home.dest  \n",
      "0                     St Louis, MO  \n",
      "1  Montreal, PQ / Chesterville, ON  \n",
      "2  Montreal, PQ / Chesterville, ON  \n",
      "3  Montreal, PQ / Chesterville, ON  \n",
      "4  Montreal, PQ / Chesterville, ON  \n"
     ]
    }
   ],
   "source": [
    "import pandas as pd\n",
    "\n",
    "# Load the Titanic dataset\n",
    "df = pd.read_csv(\"titanic_data.csv\")\n",
    "\n",
    "# Display the first 5 rows\n",
    "print(df.head())\n"
   ]
  },
  {
   "cell_type": "code",
   "execution_count": 8,
   "id": "4c11baf1",
   "metadata": {},
   "outputs": [
    {
     "name": "stdout",
     "output_type": "stream",
     "text": [
      "Age Series:\n",
      " 0    29.0000\n",
      "1     0.9167\n",
      "2     2.0000\n",
      "3    30.0000\n",
      "4    25.0000\n",
      "Name: age, dtype: float64\n",
      "\n",
      "Missing values in 'age': 263\n",
      "\n",
      "Mean Age: 29.8811345124283\n",
      "Median Age: 28.0\n",
      "\n",
      "First few rows:\n",
      "    pclass  survived                                             name     sex  \\\n",
      "0       1         1                    Allen, Miss. Elisabeth Walton  female   \n",
      "1       1         1                   Allison, Master. Hudson Trevor    male   \n",
      "2       1         0                     Allison, Miss. Helen Loraine  female   \n",
      "3       1         0             Allison, Mr. Hudson Joshua Creighton    male   \n",
      "4       1         0  Allison, Mrs. Hudson J C (Bessie Waldo Daniels)  female   \n",
      "\n",
      "       age  sibsp  parch  ticket      fare    cabin embarked boat   body  \\\n",
      "0  29.0000      0      0   24160  211.3375       B5        S    2    NaN   \n",
      "1   0.9167      1      2  113781  151.5500  C22 C26        S   11    NaN   \n",
      "2   2.0000      1      2  113781  151.5500  C22 C26        S  NaN    NaN   \n",
      "3  30.0000      1      2  113781  151.5500  C22 C26        S  NaN  135.0   \n",
      "4  25.0000      1      2  113781  151.5500  C22 C26        S  NaN    NaN   \n",
      "\n",
      "                         home.dest  \n",
      "0                     St Louis, MO  \n",
      "1  Montreal, PQ / Chesterville, ON  \n",
      "2  Montreal, PQ / Chesterville, ON  \n",
      "3  Montreal, PQ / Chesterville, ON  \n",
      "4  Montreal, PQ / Chesterville, ON  \n",
      "\n",
      "Shape of DataFrame: (1309, 14)\n",
      "\n",
      "Summary statistics:\n",
      "             pclass     survived          age        sibsp        parch  \\\n",
      "count  1309.000000  1309.000000  1046.000000  1309.000000  1309.000000   \n",
      "mean      2.294882     0.381971    29.881135     0.498854     0.385027   \n",
      "std       0.837836     0.486055    14.413500     1.041658     0.865560   \n",
      "min       1.000000     0.000000     0.166700     0.000000     0.000000   \n",
      "25%       2.000000     0.000000    21.000000     0.000000     0.000000   \n",
      "50%       3.000000     0.000000    28.000000     0.000000     0.000000   \n",
      "75%       3.000000     1.000000    39.000000     1.000000     0.000000   \n",
      "max       3.000000     1.000000    80.000000     8.000000     9.000000   \n",
      "\n",
      "              fare        body  \n",
      "count  1308.000000  121.000000  \n",
      "mean     33.295479  160.809917  \n",
      "std      51.758668   97.696922  \n",
      "min       0.000000    1.000000  \n",
      "25%       7.895800   72.000000  \n",
      "50%      14.454200  155.000000  \n",
      "75%      31.275000  256.000000  \n",
      "max     512.329200  328.000000  \n"
     ]
    }
   ],
   "source": [
    "#3. Series and DataFrames - Create a Pandas “Series” by extracting a column from the Titanic dataset.\n",
    "# - Perform basic operations on the “Series”, such as checking for missing values and calculating summary statistics \n",
    "#like the mean and median.\n",
    "# - Explore the first few rows of the DataFrame, determine its shape, and view summary statistics for the Titanic dataset.\n",
    "\n",
    "import pandas as pd\n",
    "\n",
    "# Load the Titanic dataset\n",
    "df = pd.read_csv(\"titanic_data.csv\")\n",
    "\n",
    "# Extract a column as a Pandas Series\n",
    "age_series = df[\"age\"]\n",
    "print(\"Age Series:\\n\", age_series.head())  # Display first few rows\n",
    "\n",
    "# Check for missing values\n",
    "missing_values = age_series.isnull().sum()\n",
    "print(\"\\nMissing values in 'age':\", missing_values)\n",
    "\n",
    "# Calculate summary statistics\n",
    "mean_age = age_series.mean()\n",
    "median_age = age_series.median()\n",
    "print(\"\\nMean Age:\", mean_age)\n",
    "print(\"Median Age:\", median_age)\n",
    "\n",
    "# Explore the DataFrame\n",
    "print(\"\\nFirst few rows:\\n\", df.head())  # View first few rows\n",
    "print(\"\\nShape of DataFrame:\", df.shape)  # Get number of rows and columns\n",
    "print(\"\\nSummary statistics:\\n\", df.describe())  # Get statistical summary\n"
   ]
  },
  {
   "cell_type": "code",
   "execution_count": 9,
   "id": "4aca3dad",
   "metadata": {},
   "outputs": [
    {
     "name": "stdout",
     "output_type": "stream",
     "text": [
      "\n",
      "Missing values:\n",
      " pclass           0\n",
      "survived         0\n",
      "name             0\n",
      "sex              0\n",
      "age            263\n",
      "sibsp            0\n",
      "parch            0\n",
      "ticket           0\n",
      "fare             1\n",
      "cabin         1014\n",
      "embarked         2\n",
      "boat           823\n",
      "body          1188\n",
      "home.dest      564\n",
      "FamilySize       0\n",
      "AgeGroup       263\n",
      "dtype: int64\n",
      "\n",
      "Survived in 1st class:\n",
      "    pclass  survived                                           name     sex  \\\n",
      "0       1         1                  Allen, Miss. Elisabeth Walton  female   \n",
      "1       1         1                 Allison, Master. Hudson Trevor    male   \n",
      "5       1         1                            Anderson, Mr. Harry    male   \n",
      "6       1         1              Andrews, Miss. Kornelia Theodosia  female   \n",
      "8       1         1  Appleton, Mrs. Edward Dale (Charlotte Lamson)  female   \n",
      "\n",
      "       age  sibsp  parch  ticket      fare    cabin embarked boat  body  \\\n",
      "0  29.0000      0      0   24160  211.3375       B5        S    2   NaN   \n",
      "1   0.9167      1      2  113781  151.5500  C22 C26        S   11   NaN   \n",
      "5  48.0000      0      0   19952   26.5500      E12        S    3   NaN   \n",
      "6  63.0000      1      0   13502   77.9583       D7        S   10   NaN   \n",
      "8  53.0000      2      0   11769   51.4792     C101        S    D   NaN   \n",
      "\n",
      "                         home.dest  FamilySize     AgeGroup  \n",
      "0                     St Louis, MO           0        Adult  \n",
      "1  Montreal, PQ / Chesterville, ON           3        Child  \n",
      "5                     New York, NY           0  Middle-aged  \n",
      "6                       Hudson, NY           1       Senior  \n",
      "8              Bayside, Queens, NY           2  Middle-aged  \n",
      "\n",
      "Passengers sorted by age:\n",
      "       pclass  survived                                               name  \\\n",
      "14         1         1               Barkworth, Mr. Algernon Henry Wilson   \n",
      "61         1         1  Cavendish, Mrs. Tyrell William (Julia Florence...   \n",
      "1235       3         0                                Svensson, Mr. Johan   \n",
      "135        1         0                          Goldschmidt, Mr. George B   \n",
      "9          1         0                            Artagaveytia, Mr. Ramon   \n",
      "\n",
      "         sex   age  sibsp  parch    ticket     fare cabin embarked boat  body  \\\n",
      "14      male  80.0      0      0     27042  30.0000   A23        S    B   NaN   \n",
      "61    female  76.0      1      0     19877  78.8500   C46        S    6   NaN   \n",
      "1235    male  74.0      0      0    347060   7.7750   NaN        S  NaN   NaN   \n",
      "135     male  71.0      0      0  PC 17754  34.6542    A5        C  NaN   NaN   \n",
      "9       male  71.0      0      0  PC 17609  49.5042   NaN        C  NaN  22.0   \n",
      "\n",
      "                    home.dest  FamilySize AgeGroup  \n",
      "14              Hessle, Yorks           0   Senior  \n",
      "61    Little Onn Hall, Staffs           1   Senior  \n",
      "1235                      NaN           0   Senior  \n",
      "135              New York, NY           0   Senior  \n",
      "9         Montevideo, Uruguay           0   Senior  \n"
     ]
    }
   ],
   "source": [
    "# Add a new column 'FamilySize' (sum of 'sibsp' and 'parch')\n",
    "df[\"FamilySize\"] = df[\"sibsp\"] + df[\"parch\"]\n",
    "\n",
    "# Create a categorical column 'AgeGroup' by binning 'age'\n",
    "bins = [0, 12, 18, 40, 60, 100]\n",
    "labels = [\"Child\", \"Teenager\", \"Adult\", \"Middle-aged\", \"Senior\"]\n",
    "df[\"AgeGroup\"] = pd.cut(df[\"age\"], bins=bins, labels=labels)\n",
    "\n",
    "# Identify missing values and decide whether to fill or drop them\n",
    "print(\"\\nMissing values:\\n\", df.isnull().sum())\n",
    "\n",
    "# Fill missing ages with the median age\n",
    "df[\"age\"].fillna(df[\"age\"].median(), inplace=True)\n",
    "\n",
    "# Drop rows where 'embarked' is missing\n",
    "df.dropna(subset=[\"embarked\"], inplace=True)\n",
    "\n",
    "# Filter dataset for passengers who survived and were in 1st class\n",
    "survived_first_class = df[(df[\"survived\"] == 1) & (df[\"pclass\"] == 1)]\n",
    "print(\"\\nSurvived in 1st class:\\n\", survived_first_class.head())\n",
    "\n",
    "# Sort passengers by age in descending order\n",
    "df_sorted = df.sort_values(by=\"age\", ascending=False)\n",
    "print(\"\\nPassengers sorted by age:\\n\", df_sorted.head())\n"
   ]
  },
  {
   "cell_type": "code",
   "execution_count": 10,
   "id": "0ef2ac59",
   "metadata": {},
   "outputs": [
    {
     "name": "stdout",
     "output_type": "stream",
     "text": [
      "\n",
      "Average Fare by Passenger Class:\n",
      " pclass\n",
      "1    87.508992\n",
      "2    21.179196\n",
      "3    13.302889\n",
      "Name: fare, dtype: float64\n",
      "\n",
      "Survival Rate by Passenger Class:\n",
      " pclass\n",
      "1    0.619195\n",
      "2    0.429603\n",
      "3    0.255289\n",
      "Name: survived, dtype: float64\n"
     ]
    }
   ],
   "source": [
    "#5. Data Aggregation and Grouping - Group data by specific categories (e.g., passenger class) and perform aggregation\n",
    "#functions such as calculating the average fare and the survival rate for each group.\n",
    "\n",
    "import pandas as pd\n",
    "\n",
    "# Load the Titanic dataset\n",
    "df = pd.read_csv(\"titanic_data.csv\")\n",
    "\n",
    "# Group by passenger class and calculate the average fare\n",
    "avg_fare_by_class = df.groupby(\"pclass\")[\"fare\"].mean()\n",
    "print(\"\\nAverage Fare by Passenger Class:\\n\", avg_fare_by_class)\n",
    "\n",
    "# Group by passenger class and calculate survival rate\n",
    "survival_rate_by_class = df.groupby(\"pclass\")[\"survived\"].mean()\n",
    "print(\"\\nSurvival Rate by Passenger Class:\\n\", survival_rate_by_class)\n"
   ]
  },
  {
   "cell_type": "code",
   "execution_count": 11,
   "id": "521c5657",
   "metadata": {},
   "outputs": [
    {
     "data": {
      "image/png": "[encoded data removed]",
      "text/plain": [
       "<Figure size 576x360 with 1 Axes>"
      ]
     },
     "metadata": {
      "needs_background": "light"
     },
     "output_type": "display_data"
    },
    {
     "data": {
      "image/png": "[encoded data removed]",
      "text/plain": [
       "<Figure size 432x288 with 1 Axes>"
      ]
     },
     "metadata": {
      "needs_background": "light"
     },
     "output_type": "display_data"
    }
   ],
   "source": [
    "#6. Data Visualization with Pandas - Use Pandas' built-in plotting functions to create basic visualizations.\n",
    "#- Visualize the distribution of ages in the dataset or the survival rate across different passenger classes.\n",
    " \n",
    "import matplotlib.pyplot as plt\n",
    "\n",
    "# Histogram: Distribution of Ages\n",
    "plt.figure(figsize=(8, 5))\n",
    "df[\"age\"].hist(bins=20, edgecolor=\"black\")\n",
    "plt.title(\"Distribution of Passenger Ages\")\n",
    "plt.xlabel(\"Age\")\n",
    "plt.ylabel(\"Count\")\n",
    "plt.show()\n",
    "\n",
    "# Bar chart: Survival rate across different passenger classes\n",
    "survival_rate_by_class.plot(kind=\"bar\", color=[\"blue\", \"orange\", \"green\"])\n",
    "plt.title(\"Survival Rate by Passenger Class\")\n",
    "plt.xlabel(\"Passenger Class\")\n",
    "plt.ylabel(\"Survival Rate\")\n",
    "plt.xticks(rotation=0)\n",
    "plt.show()\n"
   ]
  },
  {
   "cell_type": "code",
   "execution_count": 12,
   "id": "9da4bc8f",
   "metadata": {},
   "outputs": [
    {
     "data": {
      "image/png": "[encoded data removed]",
      "text/plain": [
       "<Figure size 432x432 with 1 Axes>"
      ]
     },
     "metadata": {},
     "output_type": "display_data"
    }
   ],
   "source": [
    "# Pie chart: Survival distribution\n",
    "survival_counts = df[\"survived\"].value_counts()\n",
    "labels = [\"Did Not Survive\", \"Survived\"]\n",
    "\n",
    "plt.figure(figsize=(6, 6))\n",
    "plt.pie(survival_counts, labels=labels, autopct=\"%1.1f%%\", colors=[\"red\", \"green\"], startangle=140)\n",
    "plt.title(\"Titanic Survival Distribution\")\n",
    "plt.show()\n"
   ]
  }
 ],
 "metadata": {
  "kernelspec": {
   "display_name": "Python 3 (ipykernel)",
   "language": "python",
   "name": "python3"
  },
  "language_info": {
   "codemirror_mode": {
    "name": "ipython",
    "version": 3
   },
   "file_extension": ".py",
   "mimetype": "text/x-python",
   "name": "python",
   "nbconvert_exporter": "python",
   "pygments_lexer": "ipython3",
   "version": "3.9.12"
  }
 },
 "nbformat": 4,
 "nbformat_minor": 5
}
